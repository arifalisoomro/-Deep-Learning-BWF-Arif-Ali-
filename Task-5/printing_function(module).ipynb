{
 "cells": [
  {
   "cell_type": "code",
   "execution_count": 8,
   "id": "d70f46e1",
   "metadata": {},
   "outputs": [],
   "source": [
    "def print_function(name):\n",
    "    print(name)"
   ]
  },
  {
   "cell_type": "code",
   "execution_count": 9,
   "id": "02fd1246",
   "metadata": {},
   "outputs": [],
   "source": [
    "#8-14\n",
    "\n",
    "def car_profile(company,model,**other_info):\n",
    "    print(\"Car Profile\")\n",
    "    profile = {}\n",
    "    profile[\"Manufacturer\"] = company\n",
    "    profile[\"Model Name\"] = model\n",
    "    for key,value in other_info.items():\n",
    "        profile[key] = value\n",
    "    return profile\n",
    "\n"
   ]
  },
  {
   "cell_type": "code",
   "execution_count": 10,
   "id": "f85c1379",
   "metadata": {},
   "outputs": [
    {
     "name": "stdout",
     "output_type": "stream",
     "text": [
      "User Profile\n",
      "{'First_Name': 'Arif', 'Last_Name': 'Soomro', 'Age': '23', 'Education': 'BSCS', 'University': 'Karachi University'}\n"
     ]
    }
   ],
   "source": [
    "#8-13\n",
    "\n",
    "def build_profile(f_name,l_name,**user_info):\n",
    "    print(\"User Profile\")\n",
    "    profile = {}\n",
    "    profile[\"First_Name\"] = f_name\n",
    "    profile[\"Last_Name\"] = l_name\n",
    "    for key,value in user_info.items():\n",
    "        profile[key] = value\n",
    "    return profile\n",
    "\n",
    "user_profile = build_profile(\"Arif\",\"Soomro\" , Age = \"23\" , Education = \"BSCS\" , University = \"Karachi University\")\n",
    "print(user_profile)"
   ]
  },
  {
   "cell_type": "code",
   "execution_count": null,
   "id": "d151c3df",
   "metadata": {},
   "outputs": [],
   "source": []
  }
 ],
 "metadata": {
  "kernelspec": {
   "display_name": "Python 3 (ipykernel)",
   "language": "python",
   "name": "python3"
  },
  "language_info": {
   "codemirror_mode": {
    "name": "ipython",
    "version": 3
   },
   "file_extension": ".py",
   "mimetype": "text/x-python",
   "name": "python",
   "nbconvert_exporter": "python",
   "pygments_lexer": "ipython3",
   "version": "3.9.13"
  }
 },
 "nbformat": 4,
 "nbformat_minor": 5
}
