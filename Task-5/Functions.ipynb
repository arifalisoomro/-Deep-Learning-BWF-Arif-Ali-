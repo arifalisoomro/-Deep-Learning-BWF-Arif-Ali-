{
 "cells": [
  {
   "cell_type": "markdown",
   "id": "2f618163",
   "metadata": {},
   "source": [
    "## Functions"
   ]
  },
  {
   "cell_type": "code",
   "execution_count": 1,
   "id": "9d7b2b22",
   "metadata": {},
   "outputs": [
    {
     "name": "stdout",
     "output_type": "stream",
     "text": [
      "In this chapter i am learning about functions.\n"
     ]
    }
   ],
   "source": [
    "#8-1\n",
    "def display_msg():\n",
    "    print(\"In this chapter i am learning about functions.\")\n",
    "display_msg()"
   ]
  },
  {
   "cell_type": "code",
   "execution_count": 2,
   "id": "50ca9b7a",
   "metadata": {},
   "outputs": [
    {
     "name": "stdout",
     "output_type": "stream",
     "text": [
      "My Favourite book is Rich Dad Poor Dad\n"
     ]
    }
   ],
   "source": [
    "#8-2\n",
    "\n",
    "def favourite_book(name):\n",
    "    print(\"My Favourite book is \" + name.title())\n",
    "favourite_book(\"Rich dad Poor dad\")"
   ]
  },
  {
   "cell_type": "code",
   "execution_count": 3,
   "id": "f41a1182",
   "metadata": {},
   "outputs": [
    {
     "name": "stdout",
     "output_type": "stream",
     "text": [
      "My T-shirt size is 5 I want to write on it, Hello\n"
     ]
    }
   ],
   "source": [
    "#8-3\n",
    "\n",
    "def make_shirt(size,text):\n",
    "    print(\"My T-shirt size is \" + size + \" I want to write on it, \" + text)\n",
    "make_shirt(\"5\" , \"Hello\")"
   ]
  },
  {
   "cell_type": "code",
   "execution_count": 4,
   "id": "52dae821",
   "metadata": {},
   "outputs": [
    {
     "name": "stdout",
     "output_type": "stream",
     "text": [
      "My T-shirt size is 7 I want to write on it, Rolls Royce\n"
     ]
    }
   ],
   "source": [
    "make_shirt(size = \"7\" , text = \"Rolls Royce\")"
   ]
  },
  {
   "cell_type": "code",
   "execution_count": 5,
   "id": "3da5edc7",
   "metadata": {},
   "outputs": [
    {
     "name": "stdout",
     "output_type": "stream",
     "text": [
      "My T-shirt size is Large I want to write on it, I love python\n"
     ]
    }
   ],
   "source": [
    "#8-4\n",
    "# Task = Make default size = large.\n",
    "def make_shirt(text , size = \"Large\"):\n",
    "    print(\"My T-shirt size is \" + size + \" I want to write on it, \" + text)\n",
    "make_shirt(\"I love python\")"
   ]
  },
  {
   "cell_type": "code",
   "execution_count": 6,
   "id": "3e880e33",
   "metadata": {},
   "outputs": [
    {
     "name": "stdout",
     "output_type": "stream",
     "text": [
      "My T-shirt size is Large I want to write on it, I love Python\n",
      "My T-shirt size is Medium I want to write on it, I love Python\n"
     ]
    }
   ],
   "source": [
    "# Task = Make default message = I love Python.\n",
    "\n",
    "def make_shirt(size,text = \"I love Python\"):\n",
    "    print(\"My T-shirt size is \" + size + \" I want to write on it, \" + text)\n",
    "make_shirt(\"Large\")\n",
    "make_shirt(\"Medium\")"
   ]
  },
  {
   "cell_type": "code",
   "execution_count": 7,
   "id": "47af1d6b",
   "metadata": {},
   "outputs": [
    {
     "name": "stdout",
     "output_type": "stream",
     "text": [
      "Karachi is in  Pakistan\n",
      "Lahore is in  Pakistan\n",
      "Delhi is in  Pakistan\n"
     ]
    }
   ],
   "source": [
    "#8-5\n",
    "\n",
    "def describe_city(city,country = \"Pakistan\"):\n",
    "    print(city + \" is in  \" + country)\n",
    "describe_city(\"Karachi\")\n",
    "describe_city(\"Lahore\")\n",
    "describe_city(\"Delhi\")"
   ]
  },
  {
   "cell_type": "code",
   "execution_count": 8,
   "id": "25de2cc9",
   "metadata": {},
   "outputs": [
    {
     "data": {
      "text/plain": [
       "'Islamabad Pakistan'"
      ]
     },
     "execution_count": 8,
     "metadata": {},
     "output_type": "execute_result"
    }
   ],
   "source": [
    "#8-6\n",
    "\n",
    "def city_country(city,country):\n",
    "    full =  city+\" \" +country\n",
    "    return full\n",
    "city_country(\"Islamabad\" ,\"Pakistan\")"
   ]
  },
  {
   "cell_type": "code",
   "execution_count": 9,
   "id": "ce53699c",
   "metadata": {},
   "outputs": [
    {
     "data": {
      "text/plain": [
       "'lahore Pakistan'"
      ]
     },
     "execution_count": 9,
     "metadata": {},
     "output_type": "execute_result"
    }
   ],
   "source": [
    "city_country(\"lahore\" ,\"Pakistan\")\n"
   ]
  },
  {
   "cell_type": "code",
   "execution_count": 10,
   "id": "aace63e0",
   "metadata": {},
   "outputs": [
    {
     "data": {
      "text/plain": [
       "'Karachi Pakistan'"
      ]
     },
     "execution_count": 10,
     "metadata": {},
     "output_type": "execute_result"
    }
   ],
   "source": [
    "city_country(\"Karachi\" ,\"Pakistan\")\n"
   ]
  },
  {
   "cell_type": "code",
   "execution_count": 11,
   "id": "328b7427",
   "metadata": {},
   "outputs": [
    {
     "data": {
      "text/plain": [
       "{'Artist Name': 'Atif Aslam', 'Atist Title': 'Pyar'}"
      ]
     },
     "execution_count": 11,
     "metadata": {},
     "output_type": "execute_result"
    }
   ],
   "source": [
    "#8-7\n",
    "def make_album(artist_name,artist_title):\n",
    "    artist =  {\"Artist Name\":artist_name , \"Atist Title\":artist_title}\n",
    "    return artist\n",
    "make_album(\"Atif Aslam\" , \"Pyar\")"
   ]
  },
  {
   "cell_type": "code",
   "execution_count": 12,
   "id": "1ca70df5",
   "metadata": {},
   "outputs": [
    {
     "data": {
      "text/plain": [
       "{'Artist Name': 'Ali Zafar', 'Atist Title': 'PSL'}"
      ]
     },
     "execution_count": 12,
     "metadata": {},
     "output_type": "execute_result"
    }
   ],
   "source": [
    "make_album(\"Ali Zafar\" , \"PSL\")"
   ]
  },
  {
   "cell_type": "code",
   "execution_count": 13,
   "id": "ec016e65",
   "metadata": {},
   "outputs": [
    {
     "data": {
      "text/plain": [
       "{'Artist Name': 'Honey Singh', 'Atist Title': 'Punjabi'}"
      ]
     },
     "execution_count": 13,
     "metadata": {},
     "output_type": "execute_result"
    }
   ],
   "source": [
    "make_album(\"Honey Singh\" , \"Punjabi\")"
   ]
  },
  {
   "cell_type": "code",
   "execution_count": 14,
   "id": "8464241d",
   "metadata": {},
   "outputs": [
    {
     "data": {
      "text/plain": [
       "{'Artist Name': 'Atif Aslam', 'Atist Title': 'Pyar'}"
      ]
     },
     "execution_count": 14,
     "metadata": {},
     "output_type": "execute_result"
    }
   ],
   "source": [
    "#Make one optional parameter\n",
    "def make_album(artist_name,artist_title,artist_age = ''):\n",
    "    artist = {\"Artist Name\":artist_name , \"Atist Title\":artist_title}    \n",
    "    if artist_age:\n",
    "        artist[\"Artist Age\"] = artist_age\n",
    "    return artist\n",
    "make_album(\"Atif Aslam\" , \"Pyar\" )"
   ]
  },
  {
   "cell_type": "code",
   "execution_count": 15,
   "id": "3fd2b714",
   "metadata": {},
   "outputs": [
    {
     "data": {
      "text/plain": [
       "{'Artist Name': 'Atif Aslam', 'Atist Title': 'Pyar', 'Artist Age': '27'}"
      ]
     },
     "execution_count": 15,
     "metadata": {},
     "output_type": "execute_result"
    }
   ],
   "source": [
    "make_album(\"Atif Aslam\" , \"Pyar\" ,\"27\" )"
   ]
  },
  {
   "cell_type": "code",
   "execution_count": 16,
   "id": "fde26170",
   "metadata": {},
   "outputs": [
    {
     "name": "stdout",
     "output_type": "stream",
     "text": [
      "\n",
      " Enter first and last name\n",
      "enter q at any time you want to quit\n",
      "First Name:arif\n",
      "Last Name:ali\n",
      "Hello arif ali how are you.\n",
      "\n",
      " Enter first and last name\n",
      "enter q at any time you want to quit\n",
      "First Name:q\n"
     ]
    }
   ],
   "source": [
    "#8-8\n",
    "def get_formated(first_name,last_name):\n",
    "    full_name = first_name + ' '+ last_name\n",
    "    return (\"Hello \" + full_name + \" how are you.\")\n",
    "\n",
    "while True:\n",
    "    print(\"\\n Enter first and last name\")\n",
    "    print(\"enter q at any time you want to quit\")\n",
    "    f_name = input(\"First Name:\")\n",
    "    if f_name == \"q\":\n",
    "        break\n",
    "    l_name = input(\"Last Name:\")\n",
    "    if l_name == \"q\":\n",
    "        break\n",
    "    formated_name = get_formated(f_name,l_name)\n",
    "    print(formated_name)\n",
    "    "
   ]
  },
  {
   "cell_type": "code",
   "execution_count": 17,
   "id": "c8ac4c03",
   "metadata": {},
   "outputs": [
    {
     "name": "stdout",
     "output_type": "stream",
     "text": [
      "Hello Ali\n",
      "Hello Hamza\n",
      "Hello Farooq\n"
     ]
    }
   ],
   "source": [
    "#8-9\n",
    "magicians = [\"Ali\" , \"Hamza\" , \"Farooq\"]\n",
    "\n",
    "def show_megicians(magicians):\n",
    "    for i in magicians:\n",
    "        print(\"Hello \" + i)\n",
    "show_megicians(magicians)"
   ]
  },
  {
   "cell_type": "code",
   "execution_count": 26,
   "id": "d5e2a54c",
   "metadata": {},
   "outputs": [
    {
     "name": "stdout",
     "output_type": "stream",
     "text": [
      "Great Farooq\n",
      "Great Hamza\n",
      "Great Ali\n",
      "Great Farooq\n",
      "Great Hamza\n",
      "Great Ali\n"
     ]
    }
   ],
   "source": [
    "#8-10\n",
    "magicians = [\"Ali\" , \"Hamza\" , \"Farooq\"]\n",
    "completed = []\n",
    "def make_great(magicians,completed):\n",
    "    while magicians:\n",
    "        current = magicians.pop()\n",
    "        print(\"Great \" + current)\n",
    "        completed.append(\"Great \" + current)\n",
    "\n",
    "def show_magicians(completed_magicians):\n",
    "    for i in completed_magicians:\n",
    "        print(i)\n",
    "        \n",
    "make_great(magicians,completed)\n",
    "\n",
    "show_magicians(completed)"
   ]
  },
  {
   "cell_type": "code",
   "execution_count": 27,
   "id": "cc19132c",
   "metadata": {},
   "outputs": [
    {
     "data": {
      "text/plain": [
       "['Great Farooq', 'Great Hamza', 'Great Ali']"
      ]
     },
     "execution_count": 27,
     "metadata": {},
     "output_type": "execute_result"
    }
   ],
   "source": [
    "completed"
   ]
  },
  {
   "cell_type": "code",
   "execution_count": 28,
   "id": "6a10337a",
   "metadata": {},
   "outputs": [
    {
     "data": {
      "text/plain": [
       "[]"
      ]
     },
     "execution_count": 28,
     "metadata": {},
     "output_type": "execute_result"
    }
   ],
   "source": [
    "magicians"
   ]
  },
  {
   "cell_type": "code",
   "execution_count": 30,
   "id": "7488c4b2",
   "metadata": {},
   "outputs": [
    {
     "name": "stdout",
     "output_type": "stream",
     "text": [
      "Great Farooq\n",
      "Great Hamza\n",
      "Great Ali\n",
      "Great Farooq\n",
      "Great Hamza\n",
      "Great Ali\n"
     ]
    }
   ],
   "source": [
    "#8-11\n",
    "magicians = [\"Ali\" , \"Hamza\" , \"Farooq\"]\n",
    "completed = []\n",
    "def make_great(magicians,completed):\n",
    "    while magicians:\n",
    "        current = magicians.pop()\n",
    "        print(\"Great \" + current)\n",
    "        completed.append(\"Great \" + current)\n",
    "\n",
    "def show_magicians(completed_magicians):\n",
    "    for i in completed_magicians:\n",
    "        print(i)\n",
    "        \n",
    "make_great(magicians[:],completed)\n",
    "\n",
    "show_magicians(completed)"
   ]
  },
  {
   "cell_type": "code",
   "execution_count": 31,
   "id": "da2cfcbb",
   "metadata": {},
   "outputs": [
    {
     "data": {
      "text/plain": [
       "['Ali', 'Hamza', 'Farooq']"
      ]
     },
     "execution_count": 31,
     "metadata": {},
     "output_type": "execute_result"
    }
   ],
   "source": [
    "magicians"
   ]
  },
  {
   "cell_type": "code",
   "execution_count": 32,
   "id": "14a7e300",
   "metadata": {},
   "outputs": [
    {
     "data": {
      "text/plain": [
       "['Great Farooq', 'Great Hamza', 'Great Ali']"
      ]
     },
     "execution_count": 32,
     "metadata": {},
     "output_type": "execute_result"
    }
   ],
   "source": [
    "completed"
   ]
  },
  {
   "cell_type": "code",
   "execution_count": 35,
   "id": "812f0345",
   "metadata": {},
   "outputs": [
    {
     "name": "stdout",
     "output_type": "stream",
     "text": [
      "Summary of sandwitches\n",
      "('Chicken Sandwitch',)\n",
      "Summary of sandwitches\n",
      "('Chicken Sandwitch', 'Egg Sandwitch', 'Seafood Sandwitch')\n"
     ]
    }
   ],
   "source": [
    "#8-12\n",
    "def items(*sandwitch):\n",
    "    print(\"Summary of sandwitches\")\n",
    "    print(sandwitch)\n",
    "items(\"Chicken Sandwitch\")\n",
    "items(\"Chicken Sandwitch\" ,\"Egg Sandwitch\" ,\"Seafood Sandwitch\" )"
   ]
  },
  {
   "cell_type": "code",
   "execution_count": 36,
   "id": "2229fcfe",
   "metadata": {},
   "outputs": [
    {
     "name": "stdout",
     "output_type": "stream",
     "text": [
      "User Profile\n",
      "{'First_Name': 'Arif', 'Last_Name': 'Soomro', 'Age': '23', 'Education': 'BSCS', 'University': 'Karachi University'}\n"
     ]
    }
   ],
   "source": [
    "#8-13\n",
    "\n",
    "def build_profile(f_name,l_name,**user_info):\n",
    "    print(\"User Profile\")\n",
    "    profile = {}\n",
    "    profile[\"First_Name\"] = f_name\n",
    "    profile[\"Last_Name\"] = l_name\n",
    "    for key,value in user_info.items():\n",
    "        profile[key] = value\n",
    "    return profile\n",
    "\n",
    "user_profile = build_profile(\"Arif\",\"Soomro\" , Age = \"23\" , Education = \"BSCS\" , University = \"Karachi University\")\n",
    "print(user_profile)"
   ]
  },
  {
   "cell_type": "code",
   "execution_count": 37,
   "id": "010cf04b",
   "metadata": {},
   "outputs": [
    {
     "name": "stdout",
     "output_type": "stream",
     "text": [
      "Car Profile\n",
      "{'Manufacturer': 'saburu', 'Model Name': 'outbrake', 'color': 'blue', 'tow_package': True}\n"
     ]
    }
   ],
   "source": [
    "#8-14\n",
    "\n",
    "def car_profile(company,model,**other_info):\n",
    "    print(\"Car Profile\")\n",
    "    profile = {}\n",
    "    profile[\"Manufacturer\"] = company\n",
    "    profile[\"Model Name\"] = model\n",
    "    for key,value in other_info.items():\n",
    "        profile[key] = value\n",
    "    return profile\n",
    "\n",
    "car = car_profile(\"saburu\",\"outbrake\" , color = \"blue\" , tow_package = True)\n",
    "print(car)"
   ]
  },
  {
   "cell_type": "markdown",
   "id": "f27ba564",
   "metadata": {},
   "source": [
    "## Set Topics"
   ]
  },
  {
   "cell_type": "markdown",
   "id": "79007b0d",
   "metadata": {},
   "source": [
    "#### Sets are used to store multiple items in a single variable.\n",
    "#### A set is a collection which is unordered, unchangeable*, and unindexed.\n",
    "### * Note: Set items are unchangeable, but you can remove items and add new items."
   ]
  },
  {
   "cell_type": "code",
   "execution_count": 38,
   "id": "326a5251",
   "metadata": {},
   "outputs": [],
   "source": [
    "# | for union.\n",
    "# & for intersection.\n",
    "# – for difference\n",
    "# ^ for symmetric difference"
   ]
  },
  {
   "cell_type": "code",
   "execution_count": 41,
   "id": "839f7bec",
   "metadata": {},
   "outputs": [
    {
     "name": "stdout",
     "output_type": "stream",
     "text": [
      "Union  {'2', '7', '6', '4', '5', '3', '8'}\n",
      "intersection  {'2', '3', '4'}\n",
      "difference  {'7', '6'}\n",
      "symmetric difference  {'8', '7', '5', '6'}\n"
     ]
    }
   ],
   "source": [
    "set_A = {\"2\",\"3\",\"4\",\"6\",\"7\"}\n",
    "set_B = {\"2\",\"3\",\"4\",\"5\",\"8\"}\n",
    "print(\"Union \" ,       set_A|set_B)\n",
    "print(\"intersection \" , set_A&set_B)\n",
    "print(\"difference \" ,   set_A-set_B)\n",
    "print(\"symmetric difference \" , set_A^set_B)"
   ]
  },
  {
   "cell_type": "markdown",
   "id": "a0952d80",
   "metadata": {},
   "source": [
    "### making data unique with sets in python"
   ]
  },
  {
   "cell_type": "code",
   "execution_count": 51,
   "id": "ec6e39c3",
   "metadata": {},
   "outputs": [
    {
     "name": "stdout",
     "output_type": "stream",
     "text": [
      "1\n",
      "2\n",
      "3\n",
      "33\n",
      "4\n",
      "44\n",
      "--------------\n",
      "96\n",
      "33\n",
      "2\n",
      "1\n",
      "3\n",
      "11\n",
      "45\n",
      "85\n",
      "22\n",
      "58\n"
     ]
    }
   ],
   "source": [
    "# Jo list hm input lengay usay set banallengay because set duplicate values nhi \n",
    "# store karta tw hamary pass unique values aa jaen gi. \n",
    "def unique(list1):\n",
    "    list_1 = set(list1)\n",
    "    for i in list_1:\n",
    "        print(i)\n",
    "list_3 = [1,1,1,2,2,2,33,3,44,4] \n",
    "list_4 = [11,22,33,11,22,33,1,2,3,45,45,58,85,96]\n",
    "unique(list_3)\n",
    "print(\"--------------\")\n",
    "unique(list_4)"
   ]
  },
  {
   "cell_type": "markdown",
   "id": "75870a1d",
   "metadata": {},
   "source": [
    "## Calculating Exection Time "
   ]
  },
  {
   "cell_type": "code",
   "execution_count": 52,
   "id": "fbbb1ac0",
   "metadata": {},
   "outputs": [],
   "source": [
    "import time"
   ]
  },
  {
   "cell_type": "code",
   "execution_count": 58,
   "id": "f73c8ecf",
   "metadata": {},
   "outputs": [
    {
     "name": "stdout",
     "output_type": "stream",
     "text": [
      "['Arif', 1, 5, 75, 'Soomro']\n",
      "0.0009987354278564453\n"
     ]
    }
   ],
   "source": [
    "start = time.time()\n",
    "lst = [\"Arif\" , 1 , 5 ,75 , \"Soomro\"]\n",
    "print(lst)\n",
    "\n",
    "end = time.time()\n",
    "\n",
    "print(end - start)"
   ]
  },
  {
   "cell_type": "code",
   "execution_count": 59,
   "id": "7f8806fa",
   "metadata": {},
   "outputs": [
    {
     "name": "stdout",
     "output_type": "stream",
     "text": [
      "['Arif', 1, 5, 75, 'Soomro', 'Hello']\n",
      "0.0009970664978027344\n"
     ]
    }
   ],
   "source": [
    "start = time.time()\n",
    "#lst = [\"Arif\" , 1 , 5 ,75 , \"Soomro\"]\n",
    "print(list((\"Arif\" , 1 , 5 ,75 , \"Soomro\" , \"Hello\")))\n",
    "\n",
    "end = time.time()\n",
    "\n",
    "print(end - start)"
   ]
  },
  {
   "cell_type": "markdown",
   "id": "7d881b90",
   "metadata": {},
   "source": [
    "## Enumerate Function"
   ]
  },
  {
   "cell_type": "code",
   "execution_count": 62,
   "id": "2b8f38d2",
   "metadata": {},
   "outputs": [
    {
     "name": "stdout",
     "output_type": "stream",
     "text": [
      "[(0, 'Arif'), (1, 1), (2, 5), (3, 75), (4, 'Soomro')]\n"
     ]
    }
   ],
   "source": [
    "lst = [\"Arif\" , 1 , 5 ,75 , \"Soomro\"]\n",
    "a = enumerate(lst)\n",
    "print(list(a))"
   ]
  },
  {
   "cell_type": "code",
   "execution_count": null,
   "id": "aed0fbaa",
   "metadata": {},
   "outputs": [],
   "source": []
  }
 ],
 "metadata": {
  "kernelspec": {
   "display_name": "Python 3 (ipykernel)",
   "language": "python",
   "name": "python3"
  },
  "language_info": {
   "codemirror_mode": {
    "name": "ipython",
    "version": 3
   },
   "file_extension": ".py",
   "mimetype": "text/x-python",
   "name": "python",
   "nbconvert_exporter": "python",
   "pygments_lexer": "ipython3",
   "version": "3.9.13"
  }
 },
 "nbformat": 4,
 "nbformat_minor": 5
}
