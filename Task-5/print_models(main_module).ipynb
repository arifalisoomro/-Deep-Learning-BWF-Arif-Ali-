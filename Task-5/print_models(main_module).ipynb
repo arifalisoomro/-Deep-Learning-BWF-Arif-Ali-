{
 "cells": [
  {
   "cell_type": "code",
   "execution_count": 26,
   "id": "427462e8",
   "metadata": {},
   "outputs": [],
   "source": [
    "import printing_function\n",
    "from printing_function import print_function\n",
    "from printing_function import print_function as print_f\n",
    "import printing_function as pf\n",
    "from printing_function import *"
   ]
  },
  {
   "cell_type": "code",
   "execution_count": 27,
   "id": "b8853cd9",
   "metadata": {},
   "outputs": [
    {
     "name": "stdout",
     "output_type": "stream",
     "text": [
      "('Hello',)\n"
     ]
    }
   ],
   "source": [
    "print_function(\"Hello\")"
   ]
  },
  {
   "cell_type": "code",
   "execution_count": null,
   "id": "8d772436",
   "metadata": {},
   "outputs": [],
   "source": []
  },
  {
   "cell_type": "code",
   "execution_count": null,
   "id": "0248b9ec",
   "metadata": {},
   "outputs": [],
   "source": []
  }
 ],
 "metadata": {
  "kernelspec": {
   "display_name": "Python 3 (ipykernel)",
   "language": "python",
   "name": "python3"
  },
  "language_info": {
   "codemirror_mode": {
    "name": "ipython",
    "version": 3
   },
   "file_extension": ".py",
   "mimetype": "text/x-python",
   "name": "python",
   "nbconvert_exporter": "python",
   "pygments_lexer": "ipython3",
   "version": "3.9.13"
  }
 },
 "nbformat": 4,
 "nbformat_minor": 5
}
