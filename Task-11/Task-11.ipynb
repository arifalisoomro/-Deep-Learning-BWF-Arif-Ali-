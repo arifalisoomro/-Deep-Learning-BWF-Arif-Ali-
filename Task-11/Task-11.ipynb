{
 "cells": [
  {
   "cell_type": "markdown",
   "id": "fbbaee4c",
   "metadata": {},
   "source": [
    "## Linear Algebra \n",
    "### Youtube Channel ---> Ahmad Bazzi (NumPy Linear Algebra | Python # 3)"
   ]
  },
  {
   "cell_type": "code",
   "execution_count": 182,
   "id": "552758e9",
   "metadata": {},
   "outputs": [],
   "source": [
    "import numpy as np\n",
    "import statistics as st\n",
    "import seaborn as sns\n",
    "import matplotlib.pyplot as plt"
   ]
  },
  {
   "cell_type": "code",
   "execution_count": 14,
   "id": "e650f5eb",
   "metadata": {},
   "outputs": [
    {
     "data": {
      "text/plain": [
       "array([1, 2, 3, 4, 5])"
      ]
     },
     "execution_count": 14,
     "metadata": {},
     "output_type": "execute_result"
    }
   ],
   "source": [
    "a = np.array([1,2,3,4,5])\n",
    "a"
   ]
  },
  {
   "cell_type": "code",
   "execution_count": 16,
   "id": "cd4e9873",
   "metadata": {},
   "outputs": [
    {
     "data": {
      "text/plain": [
       "numpy.ndarray"
      ]
     },
     "execution_count": 16,
     "metadata": {},
     "output_type": "execute_result"
    }
   ],
   "source": [
    "type(a)"
   ]
  },
  {
   "cell_type": "markdown",
   "id": "95af9d2b",
   "metadata": {},
   "source": [
    "#### Indexing Elements in my numpy array"
   ]
  },
  {
   "cell_type": "code",
   "execution_count": 18,
   "id": "d0e22fc1",
   "metadata": {},
   "outputs": [
    {
     "data": {
      "text/plain": [
       "5"
      ]
     },
     "execution_count": 18,
     "metadata": {},
     "output_type": "execute_result"
    }
   ],
   "source": [
    "a[4]"
   ]
  },
  {
   "cell_type": "code",
   "execution_count": 22,
   "id": "6295bed0",
   "metadata": {},
   "outputs": [
    {
     "data": {
      "text/plain": [
       "array([1, 2, 3, 4, 5])"
      ]
     },
     "execution_count": 22,
     "metadata": {},
     "output_type": "execute_result"
    }
   ],
   "source": [
    "a[:5]"
   ]
  },
  {
   "cell_type": "markdown",
   "id": "16b6775e",
   "metadata": {},
   "source": [
    "#### Finding the dimensions of an array "
   ]
  },
  {
   "cell_type": "code",
   "execution_count": 28,
   "id": "6e5a128a",
   "metadata": {},
   "outputs": [
    {
     "data": {
      "text/plain": [
       "(5,)"
      ]
     },
     "execution_count": 28,
     "metadata": {},
     "output_type": "execute_result"
    }
   ],
   "source": [
    "#It is a one dimensional array\n",
    "a.shape"
   ]
  },
  {
   "cell_type": "markdown",
   "id": "20727869",
   "metadata": {},
   "source": [
    "#### Creating a matrix"
   ]
  },
  {
   "cell_type": "code",
   "execution_count": 86,
   "id": "81018f49",
   "metadata": {},
   "outputs": [
    {
     "data": {
      "text/plain": [
       "array([[   1,    2,    3,    4],\n",
       "       [  10,   20,   30,   40],\n",
       "       [ 100,  200,  300,  400],\n",
       "       [1000, 2000, 3000, 4000]])"
      ]
     },
     "execution_count": 86,
     "metadata": {},
     "output_type": "execute_result"
    }
   ],
   "source": [
    "b = np.array([[1,2,3,4],[10,20,30,40],[100,200,300,400],[1000,2000,3000,4000]])\n",
    "b"
   ]
  },
  {
   "cell_type": "code",
   "execution_count": 87,
   "id": "0456ecc0",
   "metadata": {},
   "outputs": [
    {
     "data": {
      "text/plain": [
       "dtype('int32')"
      ]
     },
     "execution_count": 87,
     "metadata": {},
     "output_type": "execute_result"
    }
   ],
   "source": [
    "#type(b)\n",
    "b.dtype"
   ]
  },
  {
   "cell_type": "code",
   "execution_count": 88,
   "id": "ce929dc1",
   "metadata": {
    "scrolled": true
   },
   "outputs": [
    {
     "data": {
      "text/plain": [
       "(4, 4)"
      ]
     },
     "execution_count": 88,
     "metadata": {},
     "output_type": "execute_result"
    }
   ],
   "source": [
    "b.shape"
   ]
  },
  {
   "cell_type": "code",
   "execution_count": 89,
   "id": "40e4370b",
   "metadata": {},
   "outputs": [
    {
     "data": {
      "text/plain": [
       "4"
      ]
     },
     "execution_count": 89,
     "metadata": {},
     "output_type": "execute_result"
    }
   ],
   "source": [
    "# Number of Rows\n",
    "b.shape[0]"
   ]
  },
  {
   "cell_type": "code",
   "execution_count": 90,
   "id": "c8b14f1c",
   "metadata": {},
   "outputs": [
    {
     "data": {
      "text/plain": [
       "4"
      ]
     },
     "execution_count": 90,
     "metadata": {},
     "output_type": "execute_result"
    }
   ],
   "source": [
    "# Number of Column\n",
    "b.shape[1]"
   ]
  },
  {
   "cell_type": "code",
   "execution_count": 91,
   "id": "542dd498",
   "metadata": {},
   "outputs": [
    {
     "data": {
      "text/plain": [
       "400"
      ]
     },
     "execution_count": 91,
     "metadata": {},
     "output_type": "execute_result"
    }
   ],
   "source": [
    "#First argument is Row , second argument is column\n",
    "b[2,3]"
   ]
  },
  {
   "cell_type": "markdown",
   "id": "0f553baf",
   "metadata": {},
   "source": [
    "#### Extracting a submatrix"
   ]
  },
  {
   "cell_type": "code",
   "execution_count": 92,
   "id": "f6254a80",
   "metadata": {},
   "outputs": [
    {
     "data": {
      "text/plain": [
       "array([[   2,    3],\n",
       "       [  20,   30],\n",
       "       [ 200,  300],\n",
       "       [2000, 3000]])"
      ]
     },
     "execution_count": 92,
     "metadata": {},
     "output_type": "execute_result"
    }
   ],
   "source": [
    "B = b[0:4,1:3]\n",
    "B"
   ]
  },
  {
   "cell_type": "code",
   "execution_count": 93,
   "id": "73c069a2",
   "metadata": {},
   "outputs": [
    {
     "data": {
      "text/plain": [
       "array([[   2,    3,    4],\n",
       "       [  20,   30,   40],\n",
       "       [ 200,  300,  400],\n",
       "       [2000, 3000, 4000]])"
      ]
     },
     "execution_count": 93,
     "metadata": {},
     "output_type": "execute_result"
    }
   ],
   "source": [
    "c = b[0:4,1:4]\n",
    "c"
   ]
  },
  {
   "cell_type": "markdown",
   "id": "614c95de",
   "metadata": {},
   "source": [
    "#### Modify elements in an array or Matrix"
   ]
  },
  {
   "cell_type": "code",
   "execution_count": 94,
   "id": "3d24dd57",
   "metadata": {},
   "outputs": [
    {
     "data": {
      "text/plain": [
       "array([[   1,    2,    3,    4],\n",
       "       [  10,   20,   30,   40],\n",
       "       [ 100,    0,  300,  400],\n",
       "       [1000, 2000, 3000, 4000]])"
      ]
     },
     "execution_count": 94,
     "metadata": {},
     "output_type": "execute_result"
    }
   ],
   "source": [
    "b[2,1] = 1/3\n",
    "b"
   ]
  },
  {
   "cell_type": "markdown",
   "id": "fc59dc08",
   "metadata": {},
   "source": [
    "### Creating Special Matrices"
   ]
  },
  {
   "cell_type": "markdown",
   "id": "bd7855d5",
   "metadata": {},
   "source": [
    "#### Identity Matrix"
   ]
  },
  {
   "cell_type": "code",
   "execution_count": 95,
   "id": "305dd5bb",
   "metadata": {},
   "outputs": [
    {
     "data": {
      "text/plain": [
       "array([[1., 0., 0., 0., 0.],\n",
       "       [0., 1., 0., 0., 0.],\n",
       "       [0., 0., 1., 0., 0.],\n",
       "       [0., 0., 0., 1., 0.],\n",
       "       [0., 0., 0., 0., 1.]])"
      ]
     },
     "execution_count": 95,
     "metadata": {},
     "output_type": "execute_result"
    }
   ],
   "source": [
    "I = np.eye(5)\n",
    "I"
   ]
  },
  {
   "cell_type": "markdown",
   "id": "a181f6a1",
   "metadata": {},
   "source": [
    "#### Zero Matrix"
   ]
  },
  {
   "cell_type": "code",
   "execution_count": 96,
   "id": "7a12e512",
   "metadata": {},
   "outputs": [
    {
     "data": {
      "text/plain": [
       "array([0., 0., 0., 0., 0.])"
      ]
     },
     "execution_count": 96,
     "metadata": {},
     "output_type": "execute_result"
    }
   ],
   "source": [
    "np.zeros(5)"
   ]
  },
  {
   "cell_type": "code",
   "execution_count": 97,
   "id": "3117b791",
   "metadata": {},
   "outputs": [
    {
     "data": {
      "text/plain": [
       "array([[0., 0., 0., 0., 0.],\n",
       "       [0., 0., 0., 0., 0.],\n",
       "       [0., 0., 0., 0., 0.],\n",
       "       [0., 0., 0., 0., 0.],\n",
       "       [0., 0., 0., 0., 0.]])"
      ]
     },
     "execution_count": 97,
     "metadata": {},
     "output_type": "execute_result"
    }
   ],
   "source": [
    "np.zeros((5,5))"
   ]
  },
  {
   "cell_type": "markdown",
   "id": "74e575b0",
   "metadata": {},
   "source": [
    "#### Ones Matrix"
   ]
  },
  {
   "cell_type": "code",
   "execution_count": 98,
   "id": "9c1e4471",
   "metadata": {},
   "outputs": [
    {
     "data": {
      "text/plain": [
       "array([[1., 1., 1., 1.],\n",
       "       [1., 1., 1., 1.],\n",
       "       [1., 1., 1., 1.],\n",
       "       [1., 1., 1., 1.],\n",
       "       [1., 1., 1., 1.],\n",
       "       [1., 1., 1., 1.]])"
      ]
     },
     "execution_count": 98,
     "metadata": {},
     "output_type": "execute_result"
    }
   ],
   "source": [
    "np.ones((6,4))"
   ]
  },
  {
   "cell_type": "markdown",
   "id": "04c85f65",
   "metadata": {},
   "source": [
    "#### Constant Matrix"
   ]
  },
  {
   "cell_type": "code",
   "execution_count": 99,
   "id": "07bd2ebd",
   "metadata": {},
   "outputs": [
    {
     "data": {
      "text/plain": [
       "array([[5, 5, 5, 5],\n",
       "       [5, 5, 5, 5],\n",
       "       [5, 5, 5, 5],\n",
       "       [5, 5, 5, 5]])"
      ]
     },
     "execution_count": 99,
     "metadata": {},
     "output_type": "execute_result"
    }
   ],
   "source": [
    "#np.full((shape) , value)\n",
    "C = np.full((4,4),5)\n",
    "C"
   ]
  },
  {
   "cell_type": "markdown",
   "id": "47e9aeff",
   "metadata": {},
   "source": [
    "#### Random Matrix"
   ]
  },
  {
   "cell_type": "code",
   "execution_count": 100,
   "id": "3e6df97d",
   "metadata": {},
   "outputs": [
    {
     "data": {
      "text/plain": [
       "array([[0.80206702, 0.42979754, 0.8296099 , 0.22468783],\n",
       "       [0.39333832, 0.89256044, 0.45368663, 0.34153495],\n",
       "       [0.66274338, 0.24003215, 0.54964449, 0.13668616],\n",
       "       [0.46310365, 0.40912784, 0.07158216, 0.05287107]])"
      ]
     },
     "execution_count": 100,
     "metadata": {},
     "output_type": "execute_result"
    }
   ],
   "source": [
    "X = np.random.random((4,4))\n",
    "X"
   ]
  },
  {
   "cell_type": "code",
   "execution_count": 101,
   "id": "ae468c7d",
   "metadata": {},
   "outputs": [
    {
     "data": {
      "text/plain": [
       "0.4953514129779248"
      ]
     },
     "execution_count": 101,
     "metadata": {},
     "output_type": "execute_result"
    }
   ],
   "source": [
    "Y = np.random.random((1000,4))\n",
    "np.mean(Y)"
   ]
  },
  {
   "cell_type": "markdown",
   "id": "8a2abadb",
   "metadata": {},
   "source": [
    "#### Standard Devition"
   ]
  },
  {
   "cell_type": "code",
   "execution_count": 102,
   "id": "a018f598",
   "metadata": {},
   "outputs": [
    {
     "data": {
      "text/plain": [
       "0.28818301244417505"
      ]
     },
     "execution_count": 102,
     "metadata": {},
     "output_type": "execute_result"
    }
   ],
   "source": [
    "np.std(Y)"
   ]
  },
  {
   "cell_type": "code",
   "execution_count": 105,
   "id": "0b805ed1",
   "metadata": {},
   "outputs": [
    {
     "data": {
      "text/plain": [
       "array([[   1,    2,    3,    4],\n",
       "       [  10,   20,   30,   40],\n",
       "       [ 100,    0,  300,  400],\n",
       "       [1000, 2000, 3000, 4000]])"
      ]
     },
     "execution_count": 105,
     "metadata": {},
     "output_type": "execute_result"
    }
   ],
   "source": [
    "b"
   ]
  },
  {
   "cell_type": "markdown",
   "id": "4cc967b0",
   "metadata": {},
   "source": [
    "#### Checking DataType"
   ]
  },
  {
   "cell_type": "code",
   "execution_count": 106,
   "id": "bb2a3e98",
   "metadata": {},
   "outputs": [
    {
     "data": {
      "text/plain": [
       "dtype('int32')"
      ]
     },
     "execution_count": 106,
     "metadata": {},
     "output_type": "execute_result"
    }
   ],
   "source": [
    "b.dtype"
   ]
  },
  {
   "cell_type": "markdown",
   "id": "052abf6c",
   "metadata": {},
   "source": [
    "### Matrix Operations"
   ]
  },
  {
   "cell_type": "markdown",
   "id": "0b920176",
   "metadata": {},
   "source": [
    "#### Matrix Addition"
   ]
  },
  {
   "cell_type": "code",
   "execution_count": 108,
   "id": "71d0795d",
   "metadata": {},
   "outputs": [],
   "source": [
    "A = np.array([[1,3,5],[2,6,8],[7,-5,9]])\n",
    "B = np.array([[5,7,9],[3,7,9],[2,-8,5]])"
   ]
  },
  {
   "cell_type": "code",
   "execution_count": 109,
   "id": "cba35012",
   "metadata": {},
   "outputs": [
    {
     "data": {
      "text/plain": [
       "array([[ 1,  3,  5],\n",
       "       [ 2,  6,  8],\n",
       "       [ 7, -5,  9]])"
      ]
     },
     "execution_count": 109,
     "metadata": {},
     "output_type": "execute_result"
    }
   ],
   "source": [
    "A"
   ]
  },
  {
   "cell_type": "code",
   "execution_count": 110,
   "id": "ab221692",
   "metadata": {},
   "outputs": [
    {
     "data": {
      "text/plain": [
       "array([[ 5,  7,  9],\n",
       "       [ 3,  7,  9],\n",
       "       [ 2, -8,  5]])"
      ]
     },
     "execution_count": 110,
     "metadata": {},
     "output_type": "execute_result"
    }
   ],
   "source": [
    "B"
   ]
  },
  {
   "cell_type": "code",
   "execution_count": 111,
   "id": "41a95f9a",
   "metadata": {},
   "outputs": [
    {
     "data": {
      "text/plain": [
       "array([[  6,  10,  14],\n",
       "       [  5,  13,  17],\n",
       "       [  9, -13,  14]])"
      ]
     },
     "execution_count": 111,
     "metadata": {},
     "output_type": "execute_result"
    }
   ],
   "source": [
    "A+B"
   ]
  },
  {
   "cell_type": "code",
   "execution_count": 112,
   "id": "86018e79",
   "metadata": {},
   "outputs": [
    {
     "data": {
      "text/plain": [
       "array([[  6,  10,  14],\n",
       "       [  5,  13,  17],\n",
       "       [  9, -13,  14]])"
      ]
     },
     "execution_count": 112,
     "metadata": {},
     "output_type": "execute_result"
    }
   ],
   "source": [
    "C = A+B\n",
    "C"
   ]
  },
  {
   "cell_type": "code",
   "execution_count": 119,
   "id": "b06ab23b",
   "metadata": {},
   "outputs": [
    {
     "data": {
      "text/plain": [
       "array([[  6.,  10.,  14.],\n",
       "       [  5.,  13.,  17.],\n",
       "       [  9., -13.,  14.]], dtype=float32)"
      ]
     },
     "execution_count": 119,
     "metadata": {},
     "output_type": "execute_result"
    }
   ],
   "source": [
    "np.add(A,B , dtype = np.float32)"
   ]
  },
  {
   "cell_type": "markdown",
   "id": "f0b1b12d",
   "metadata": {},
   "source": [
    "### Matrix Subtraction"
   ]
  },
  {
   "cell_type": "code",
   "execution_count": 120,
   "id": "83f35e6a",
   "metadata": {},
   "outputs": [
    {
     "data": {
      "text/plain": [
       "array([[-4, -4, -4],\n",
       "       [-1, -1, -1],\n",
       "       [ 5,  3,  4]])"
      ]
     },
     "execution_count": 120,
     "metadata": {},
     "output_type": "execute_result"
    }
   ],
   "source": [
    "A-B"
   ]
  },
  {
   "cell_type": "code",
   "execution_count": 122,
   "id": "fbd9f4c1",
   "metadata": {},
   "outputs": [
    {
     "data": {
      "text/plain": [
       "array([[-4., -4., -4.],\n",
       "       [-1., -1., -1.],\n",
       "       [ 5.,  3.,  4.]])"
      ]
     },
     "execution_count": 122,
     "metadata": {},
     "output_type": "execute_result"
    }
   ],
   "source": [
    "np.subtract(A,B , dtype = np.float64)"
   ]
  },
  {
   "cell_type": "markdown",
   "id": "e91653cb",
   "metadata": {},
   "source": [
    "### MATRIX MULTIPLICATION (POINTWISE MULTIPLICATION)"
   ]
  },
  {
   "cell_type": "code",
   "execution_count": 123,
   "id": "ffc91468",
   "metadata": {},
   "outputs": [
    {
     "data": {
      "text/plain": [
       "array([[ 1,  3,  5],\n",
       "       [ 2,  6,  8],\n",
       "       [ 7, -5,  9]])"
      ]
     },
     "execution_count": 123,
     "metadata": {},
     "output_type": "execute_result"
    }
   ],
   "source": [
    "A"
   ]
  },
  {
   "cell_type": "code",
   "execution_count": 124,
   "id": "11aba4cf",
   "metadata": {},
   "outputs": [
    {
     "data": {
      "text/plain": [
       "array([[ 5,  7,  9],\n",
       "       [ 3,  7,  9],\n",
       "       [ 2, -8,  5]])"
      ]
     },
     "execution_count": 124,
     "metadata": {},
     "output_type": "execute_result"
    }
   ],
   "source": [
    "B"
   ]
  },
  {
   "cell_type": "code",
   "execution_count": 125,
   "id": "c3b374d2",
   "metadata": {},
   "outputs": [
    {
     "data": {
      "text/plain": [
       "array([[ 5, 21, 45],\n",
       "       [ 6, 42, 72],\n",
       "       [14, 40, 45]])"
      ]
     },
     "execution_count": 125,
     "metadata": {},
     "output_type": "execute_result"
    }
   ],
   "source": [
    "A*B"
   ]
  },
  {
   "cell_type": "code",
   "execution_count": 127,
   "id": "e822df61",
   "metadata": {},
   "outputs": [
    {
     "data": {
      "text/plain": [
       "array([[ 5., 21., 45.],\n",
       "       [ 6., 42., 72.],\n",
       "       [14., 40., 45.]])"
      ]
     },
     "execution_count": 127,
     "metadata": {},
     "output_type": "execute_result"
    }
   ],
   "source": [
    "np.multiply(A,B,dtype = np.float64)"
   ]
  },
  {
   "cell_type": "markdown",
   "id": "0cf9d044",
   "metadata": {},
   "source": [
    "### Matrix Devision (Pointwise)"
   ]
  },
  {
   "cell_type": "code",
   "execution_count": 128,
   "id": "0a2e7442",
   "metadata": {},
   "outputs": [
    {
     "data": {
      "text/plain": [
       "array([[ 1,  3,  5],\n",
       "       [ 2,  6,  8],\n",
       "       [ 7, -5,  9]])"
      ]
     },
     "execution_count": 128,
     "metadata": {},
     "output_type": "execute_result"
    }
   ],
   "source": [
    "A"
   ]
  },
  {
   "cell_type": "code",
   "execution_count": 129,
   "id": "bb69e343",
   "metadata": {},
   "outputs": [
    {
     "data": {
      "text/plain": [
       "array([[ 5,  7,  9],\n",
       "       [ 3,  7,  9],\n",
       "       [ 2, -8,  5]])"
      ]
     },
     "execution_count": 129,
     "metadata": {},
     "output_type": "execute_result"
    }
   ],
   "source": [
    "B"
   ]
  },
  {
   "cell_type": "code",
   "execution_count": 130,
   "id": "9a95eb3f",
   "metadata": {},
   "outputs": [],
   "source": [
    "C = A/B"
   ]
  },
  {
   "cell_type": "code",
   "execution_count": 131,
   "id": "dcb3f6b5",
   "metadata": {},
   "outputs": [
    {
     "data": {
      "text/plain": [
       "array([[0.2       , 0.42857143, 0.55555556],\n",
       "       [0.66666667, 0.85714286, 0.88888889],\n",
       "       [3.5       , 0.625     , 1.8       ]])"
      ]
     },
     "execution_count": 131,
     "metadata": {},
     "output_type": "execute_result"
    }
   ],
   "source": [
    "C"
   ]
  },
  {
   "cell_type": "code",
   "execution_count": 135,
   "id": "3b4a0978",
   "metadata": {},
   "outputs": [],
   "source": [
    "## We cannot convert dtype from float into int through divide method for that we use another method\n",
    "C = np.divide(A,B , dtype = np.float32) "
   ]
  },
  {
   "cell_type": "code",
   "execution_count": 137,
   "id": "8a30d2d7",
   "metadata": {},
   "outputs": [
    {
     "data": {
      "text/plain": [
       "array([[0, 0, 0],\n",
       "       [0, 0, 0],\n",
       "       [3, 0, 1]])"
      ]
     },
     "execution_count": 137,
     "metadata": {},
     "output_type": "execute_result"
    }
   ],
   "source": [
    "np.int32(C)"
   ]
  },
  {
   "cell_type": "markdown",
   "id": "93af143c",
   "metadata": {},
   "source": [
    "## Matrix Product"
   ]
  },
  {
   "cell_type": "markdown",
   "id": "2023d4df",
   "metadata": {},
   "source": [
    "It is (first row * first column) type multiplication"
   ]
  },
  {
   "cell_type": "code",
   "execution_count": 139,
   "id": "539340f4",
   "metadata": {
    "scrolled": false
   },
   "outputs": [
    {
     "data": {
      "text/plain": [
       "array([[ 1,  3,  5],\n",
       "       [ 2,  6,  8],\n",
       "       [ 7, -5,  9]])"
      ]
     },
     "execution_count": 139,
     "metadata": {},
     "output_type": "execute_result"
    }
   ],
   "source": [
    "A"
   ]
  },
  {
   "cell_type": "code",
   "execution_count": 140,
   "id": "ea2e2309",
   "metadata": {
    "scrolled": true
   },
   "outputs": [
    {
     "data": {
      "text/plain": [
       "array([[ 5,  7,  9],\n",
       "       [ 3,  7,  9],\n",
       "       [ 2, -8,  5]])"
      ]
     },
     "execution_count": 140,
     "metadata": {},
     "output_type": "execute_result"
    }
   ],
   "source": [
    "B"
   ]
  },
  {
   "cell_type": "code",
   "execution_count": 138,
   "id": "929fb130",
   "metadata": {},
   "outputs": [
    {
     "data": {
      "text/plain": [
       "array([[ 24, -12,  61],\n",
       "       [ 44,  -8, 112],\n",
       "       [ 38, -58,  63]])"
      ]
     },
     "execution_count": 138,
     "metadata": {},
     "output_type": "execute_result"
    }
   ],
   "source": [
    "np.matmul(A,B)"
   ]
  },
  {
   "cell_type": "code",
   "execution_count": 147,
   "id": "5296c9c4",
   "metadata": {},
   "outputs": [
    {
     "data": {
      "text/plain": [
       "array(<built-in method transpose of numpy.ndarray object at 0x00000257906EFC90>,\n",
       "      dtype=object)"
      ]
     },
     "execution_count": 147,
     "metadata": {},
     "output_type": "execute_result"
    }
   ],
   "source": [
    "np.transpose(A)"
   ]
  },
  {
   "cell_type": "code",
   "execution_count": 148,
   "id": "2550f293",
   "metadata": {},
   "outputs": [
    {
     "data": {
      "text/plain": [
       "array([[ 5,  3,  2],\n",
       "       [ 7,  7, -8],\n",
       "       [ 9,  9,  5]])"
      ]
     },
     "execution_count": 148,
     "metadata": {},
     "output_type": "execute_result"
    }
   ],
   "source": [
    "np.transpose(B)"
   ]
  },
  {
   "cell_type": "markdown",
   "id": "b28f40b1",
   "metadata": {},
   "source": [
    "## Statistics"
   ]
  },
  {
   "cell_type": "code",
   "execution_count": 149,
   "id": "6ada9194",
   "metadata": {},
   "outputs": [
    {
     "data": {
      "text/plain": [
       "array([1, 2, 3, 4, 5])"
      ]
     },
     "execution_count": 149,
     "metadata": {},
     "output_type": "execute_result"
    }
   ],
   "source": [
    "x = np.array([1,2,3,4,5])\n",
    "x"
   ]
  },
  {
   "cell_type": "code",
   "execution_count": 150,
   "id": "757b8849",
   "metadata": {},
   "outputs": [
    {
     "data": {
      "text/plain": [
       "3.0"
      ]
     },
     "execution_count": 150,
     "metadata": {},
     "output_type": "execute_result"
    }
   ],
   "source": [
    "np.mean(x)"
   ]
  },
  {
   "cell_type": "code",
   "execution_count": 151,
   "id": "0d47e04f",
   "metadata": {},
   "outputs": [
    {
     "data": {
      "text/plain": [
       "3.0"
      ]
     },
     "execution_count": 151,
     "metadata": {},
     "output_type": "execute_result"
    }
   ],
   "source": [
    "np.median(x)"
   ]
  },
  {
   "cell_type": "code",
   "execution_count": 156,
   "id": "38485699",
   "metadata": {},
   "outputs": [
    {
     "data": {
      "text/plain": [
       "array([ 1,  2,  3,  3,  3,  3,  4,  4,  4, 55,  5])"
      ]
     },
     "execution_count": 156,
     "metadata": {},
     "output_type": "execute_result"
    }
   ],
   "source": [
    "y = np.array([1,2,3,3,3,3,4,4,4,55,5])\n",
    "y"
   ]
  },
  {
   "cell_type": "code",
   "execution_count": 157,
   "id": "13800123",
   "metadata": {
    "scrolled": true
   },
   "outputs": [
    {
     "data": {
      "text/plain": [
       "3"
      ]
     },
     "execution_count": 157,
     "metadata": {},
     "output_type": "execute_result"
    }
   ],
   "source": [
    "st.mode(y)"
   ]
  },
  {
   "cell_type": "markdown",
   "id": "32eaaac2",
   "metadata": {},
   "source": [
    "## Quantiles"
   ]
  },
  {
   "cell_type": "code",
   "execution_count": 158,
   "id": "9d56f974",
   "metadata": {},
   "outputs": [],
   "source": [
    "arr = [20,36,10,6,9]"
   ]
  },
  {
   "cell_type": "code",
   "execution_count": 172,
   "id": "e2bc83d8",
   "metadata": {},
   "outputs": [
    {
     "name": "stdout",
     "output_type": "stream",
     "text": [
      "arr : [20, 36, 10, 6, 9]\n",
      "Q1 quantile of array :  10.0\n",
      "Q2 quantile of array :  9.0\n",
      "Q3 quantile of array :  20.0\n",
      "100 quantile of array :  7.2\n"
     ]
    }
   ],
   "source": [
    "print(\"arr :\" , arr)\n",
    "print(\"Q1 quantile of array : \" ,  np.quantile(arr , .50))\n",
    "print(\"Q2 quantile of array : \" ,  np.quantile(arr , .25))\n",
    "print(\"Q3 quantile of array : \" ,  np.quantile(arr , .75))\n",
    "print(\"100 quantile of array : \" ,  np.quantile(arr , .1))"
   ]
  },
  {
   "cell_type": "code",
   "execution_count": 181,
   "id": "da89fa78",
   "metadata": {},
   "outputs": [
    {
     "data": {
      "text/plain": [
       "[<matplotlib.lines.Line2D at 0x2579591f3d0>]"
      ]
     },
     "execution_count": 181,
     "metadata": {},
     "output_type": "execute_result"
    },
    {
     "data": {
      "image/png": "[encoded data removed]",
      "text/plain": [
       "<Figure size 640x480 with 1 Axes>"
      ]
     },
     "metadata": {},
     "output_type": "display_data"
    }
   ],
   "source": [
    "import matplotlib.pyplot as plt\n",
    "arr = np.random.normal(loc=0,scale=1,size=(400,))\n",
    "plt.plot(arr)"
   ]
  },
  {
   "cell_type": "code",
   "execution_count": null,
   "id": "caebc432",
   "metadata": {},
   "outputs": [],
   "source": []
  }
 ],
 "metadata": {
  "kernelspec": {
   "display_name": "Python 3 (ipykernel)",
   "language": "python",
   "name": "python3"
  },
  "language_info": {
   "codemirror_mode": {
    "name": "ipython",
    "version": 3
   },
   "file_extension": ".py",
   "mimetype": "text/x-python",
   "name": "python",
   "nbconvert_exporter": "python",
   "pygments_lexer": "ipython3",
   "version": "3.9.13"
  }
 },
 "nbformat": 4,
 "nbformat_minor": 5
}
