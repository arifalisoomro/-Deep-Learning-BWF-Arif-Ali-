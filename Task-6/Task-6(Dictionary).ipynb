{
 "cells": [
  {
   "cell_type": "code",
   "execution_count": 1,
   "id": "16c9d47a",
   "metadata": {},
   "outputs": [
    {
     "name": "stdout",
     "output_type": "stream",
     "text": [
      "{'f_name': 'Amjad', 'l_name': 'Rajar', 'Age': '25', 'City': 'UmerCoat'}\n"
     ]
    }
   ],
   "source": [
    "#6-1\n",
    "person = {\"f_name\":\"Amjad\",\n",
    "         \"l_name\":\"Rajar\",\n",
    "         \"Age\" :\"25\",\n",
    "         \"City\":\"UmerCoat\"}\n",
    "\n",
    "print(person)"
   ]
  },
  {
   "cell_type": "code",
   "execution_count": 5,
   "id": "5b73951b",
   "metadata": {},
   "outputs": [],
   "source": [
    "#6-2\n",
    "person[\"favourite_No\"]=\"09\"\n",
    "person[\"favourite_color\"]=\"Black\"\n",
    "person[\"favourite_car\"]=\"Corolla\""
   ]
  },
  {
   "cell_type": "code",
   "execution_count": 6,
   "id": "3057282d",
   "metadata": {},
   "outputs": [
    {
     "data": {
      "text/plain": [
       "{'f_name': 'Amjad',\n",
       " 'l_name': 'Rajar',\n",
       " 'Age': '25',\n",
       " 'City': 'UmerCoat',\n",
       " 'favourite_No': '09',\n",
       " 'favourite_color': 'Black',\n",
       " 'favourite_car': 'Corolla'}"
      ]
     },
     "execution_count": 6,
     "metadata": {},
     "output_type": "execute_result"
    }
   ],
   "source": [
    "person"
   ]
  },
  {
   "cell_type": "code",
   "execution_count": 14,
   "id": "45348118",
   "metadata": {},
   "outputs": [],
   "source": [
    "#6-3\n",
    "glossary = {\"Algorithm\":\"Set of instruction \",\n",
    "           \"Program\":\"organized collection of instructions\",\n",
    "           \"Argument\":\"arg is a value that is passed into a command or a function.\",\n",
    "           \"API\":\"API is a set of rules, routines, and protocols to build software applications.\",\n",
    "           \"Bug\":\"denote an unexpected error \"}"
   ]
  },
  {
   "cell_type": "code",
   "execution_count": 15,
   "id": "a531763c",
   "metadata": {},
   "outputs": [
    {
     "data": {
      "text/plain": [
       "{'Algorithm': 'Set of instruction ',\n",
       " 'Program': 'organized collection of instructions',\n",
       " 'Argument': 'arg is a value that is passed into a command or a function.',\n",
       " 'API': 'API is a set of rules, routines, and protocols to build software applications.',\n",
       " 'Bug': 'denote an unexpected error '}"
      ]
     },
     "execution_count": 15,
     "metadata": {},
     "output_type": "execute_result"
    }
   ],
   "source": [
    "glossary"
   ]
  },
  {
   "cell_type": "code",
   "execution_count": null,
   "id": "e944639c",
   "metadata": {},
   "outputs": [],
   "source": []
  }
 ],
 "metadata": {
  "kernelspec": {
   "display_name": "Python 3 (ipykernel)",
   "language": "python",
   "name": "python3"
  },
  "language_info": {
   "codemirror_mode": {
    "name": "ipython",
    "version": 3
   },
   "file_extension": ".py",
   "mimetype": "text/x-python",
   "name": "python",
   "nbconvert_exporter": "python",
   "pygments_lexer": "ipython3",
   "version": "3.9.13"
  }
 },
 "nbformat": 4,
 "nbformat_minor": 5
}
