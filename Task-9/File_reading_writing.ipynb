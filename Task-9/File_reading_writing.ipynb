{
 "cells": [
  {
   "cell_type": "markdown",
   "id": "11629d89",
   "metadata": {},
   "source": [
    "# Reading\n",
    "### By reading the entire file"
   ]
  },
  {
   "cell_type": "code",
   "execution_count": 9,
   "id": "36df41c5",
   "metadata": {},
   "outputs": [
    {
     "name": "stdout",
     "output_type": "stream",
     "text": [
      "In python you can do addition,subtraction,division,multiplication.\n",
      "In python i learn the concept of list.\n",
      "In python i learn the concept of Dictionary.\n",
      "In python i learn the concept of String.\n",
      "In python i learn the concept of Functions.\n",
      "\n",
      "In python you can do addition,subtraction,division,multiplication.\n",
      "In python i learn the concept of list.\n",
      "In python i learn the concept of Dictionary.\n",
      "In python i learn the concept of String.\n",
      "In python i learn the concept of Functions.\n",
      "\n",
      "In python you can do addition,subtraction,division,multiplication.\n",
      "In python i learn the concept of list.\n",
      "In python i learn the concept of Dictionary.\n",
      "In python i learn the concept of String.\n",
      "In python i learn the concept of Functions.\n",
      "\n"
     ]
    }
   ],
   "source": [
    "#10-1\n",
    "\n",
    "for i in range(3):\n",
    "    with open(\"learning_python.txt\") as file_object:\n",
    "        content = file_object.read()\n",
    "        print(content)\n",
    "    "
   ]
  },
  {
   "cell_type": "markdown",
   "id": "350443f1",
   "metadata": {},
   "source": [
    "## Reading line by line or through looping"
   ]
  },
  {
   "cell_type": "code",
   "execution_count": 10,
   "id": "b0c571d3",
   "metadata": {},
   "outputs": [
    {
     "name": "stdout",
     "output_type": "stream",
     "text": [
      "In python you can do addition,subtraction,division,multiplication.\n",
      "\n",
      "In python i learn the concept of list.\n",
      "\n",
      "In python i learn the concept of Dictionary.\n",
      "\n",
      "In python i learn the concept of String.\n",
      "\n",
      "In python i learn the concept of Functions.\n",
      "\n",
      "In python you can do addition,subtraction,division,multiplication.\n",
      "\n",
      "In python i learn the concept of list.\n",
      "\n",
      "In python i learn the concept of Dictionary.\n",
      "\n",
      "In python i learn the concept of String.\n",
      "\n",
      "In python i learn the concept of Functions.\n",
      "\n",
      "In python you can do addition,subtraction,division,multiplication.\n",
      "\n",
      "In python i learn the concept of list.\n",
      "\n",
      "In python i learn the concept of Dictionary.\n",
      "\n",
      "In python i learn the concept of String.\n",
      "\n",
      "In python i learn the concept of Functions.\n",
      "\n"
     ]
    }
   ],
   "source": [
    "for i in range(3):\n",
    "    with open(\"learning_python.txt\") as file_object:\n",
    "        for line in file_object:\n",
    "            print(line)"
   ]
  },
  {
   "cell_type": "markdown",
   "id": "bf4e19ca",
   "metadata": {},
   "source": [
    "## Making a List of Lines from a File"
   ]
  },
  {
   "cell_type": "code",
   "execution_count": 11,
   "id": "4800248c",
   "metadata": {},
   "outputs": [
    {
     "name": "stdout",
     "output_type": "stream",
     "text": [
      "In python you can do addition,subtraction,division,multiplication.\n",
      "\n",
      "In python i learn the concept of list.\n",
      "\n",
      "In python i learn the concept of Dictionary.\n",
      "\n",
      "In python i learn the concept of String.\n",
      "\n",
      "In python i learn the concept of Functions.\n",
      "\n",
      "In python you can do addition,subtraction,division,multiplication.\n",
      "\n",
      "In python i learn the concept of list.\n",
      "\n",
      "In python i learn the concept of Dictionary.\n",
      "\n",
      "In python i learn the concept of String.\n",
      "\n",
      "In python i learn the concept of Functions.\n",
      "\n",
      "In python you can do addition,subtraction,division,multiplication.\n",
      "\n",
      "In python i learn the concept of list.\n",
      "\n",
      "In python i learn the concept of Dictionary.\n",
      "\n",
      "In python i learn the concept of String.\n",
      "\n",
      "In python i learn the concept of Functions.\n",
      "\n"
     ]
    }
   ],
   "source": [
    "for i in range(3):\n",
    "    with open(\"learning_python.txt\") as file_object:\n",
    "        lines = file_object.readlines()\n",
    "        for line in lines:\n",
    "            print(line)"
   ]
  },
  {
   "cell_type": "code",
   "execution_count": 14,
   "id": "d4cc5dbd",
   "metadata": {},
   "outputs": [
    {
     "name": "stdout",
     "output_type": "stream",
     "text": [
      "In C you can do addition,subtraction,division,multiplication.\n",
      "In C i learn the concept of list.\n",
      "In C i learn the concept of Dictionary.\n",
      "In C i learn the concept of String.\n",
      "In C i learn the concept of Functions.\n",
      "\n",
      "In C you can do addition,subtraction,division,multiplication.\n",
      "In C i learn the concept of list.\n",
      "In C i learn the concept of Dictionary.\n",
      "In C i learn the concept of String.\n",
      "In C i learn the concept of Functions.\n",
      "\n",
      "In C you can do addition,subtraction,division,multiplication.\n",
      "In C i learn the concept of list.\n",
      "In C i learn the concept of Dictionary.\n",
      "In C i learn the concept of String.\n",
      "In C i learn the concept of Functions.\n",
      "\n"
     ]
    }
   ],
   "source": [
    "#10-2\n",
    "for i in range(3):\n",
    "    filename = \"learning_python.txt\"\n",
    "    with open(filename) as file_object:\n",
    "        content = file_object.read()\n",
    "        new_content = content.replace(\"python\" , \"C\")\n",
    "        print(new_content)\n"
   ]
  },
  {
   "cell_type": "code",
   "execution_count": 18,
   "id": "e5de05d3",
   "metadata": {},
   "outputs": [
    {
     "name": "stdout",
     "output_type": "stream",
     "text": [
      "In C you can do addition,subtraction,division,multiplication.\n",
      "\n",
      "In C i learn the concept of list.\n",
      "\n",
      "In C i learn the concept of Dictionary.\n",
      "\n",
      "In C i learn the concept of String.\n",
      "\n",
      "In C i learn the concept of Functions.\n",
      "\n",
      "In C you can do addition,subtraction,division,multiplication.\n",
      "\n",
      "In C i learn the concept of list.\n",
      "\n",
      "In C i learn the concept of Dictionary.\n",
      "\n",
      "In C i learn the concept of String.\n",
      "\n",
      "In C i learn the concept of Functions.\n",
      "\n",
      "In C you can do addition,subtraction,division,multiplication.\n",
      "\n",
      "In C i learn the concept of list.\n",
      "\n",
      "In C i learn the concept of Dictionary.\n",
      "\n",
      "In C i learn the concept of String.\n",
      "\n",
      "In C i learn the concept of Functions.\n",
      "\n"
     ]
    }
   ],
   "source": [
    "#10-2\n",
    "for i in range(3):\n",
    "    with open(\"learning_python.txt\") as file_object:\n",
    "        lines = file_object.readlines()\n",
    "        for line in lines:\n",
    "            new_lines = line.replace(\"python\" ,\"C\")\n",
    "            print(new_lines)"
   ]
  },
  {
   "cell_type": "markdown",
   "id": "4ff032c0",
   "metadata": {},
   "source": [
    "## Writing"
   ]
  },
  {
   "cell_type": "code",
   "execution_count": 22,
   "id": "d0490be1",
   "metadata": {},
   "outputs": [
    {
     "name": "stdout",
     "output_type": "stream",
     "text": [
      "What is your name? Arif\n",
      "What is your name? Ali\n",
      "What is your name? soomro\n"
     ]
    }
   ],
   "source": [
    "#10-3\n",
    "for i in range(3):\n",
    "    name = input(\"What is your name? \")\n",
    "\n",
    "    with open(\"guest.txt\" , \"w\") as file_object:\n",
    "        file_object.write(name)"
   ]
  },
  {
   "cell_type": "code",
   "execution_count": 23,
   "id": "560aaa65",
   "metadata": {},
   "outputs": [
    {
     "name": "stdout",
     "output_type": "stream",
     "text": [
      "What is your name? arif\n",
      "welcome , arif \n",
      "What is your name? break\n",
      "welcome , break \n",
      "What is your name? quit\n",
      "Thankyou for visiting\n"
     ]
    }
   ],
   "source": [
    "#10-4\n",
    "\n",
    "file_name = \"guest.txt\"\n",
    "while True:\n",
    "    name = input(\"What is your name? \")\n",
    "    \n",
    "    if name == \"quit\":\n",
    "        break\n",
    "        \n",
    "    print(f\"welcome , {name} \")\n",
    "    \n",
    "    with open(file_name , \"a\") as file_object:\n",
    "        file_object.write(name + \"\\n\")\n",
    "        \n",
    "print(\"Thankyou for visiting\")"
   ]
  },
  {
   "cell_type": "markdown",
   "id": "d836f808",
   "metadata": {},
   "source": [
    "## Try Except"
   ]
  },
  {
   "cell_type": "code",
   "execution_count": 24,
   "id": "b7d531cb",
   "metadata": {},
   "outputs": [
    {
     "name": "stdout",
     "output_type": "stream",
     "text": [
      "Enter a number: 1\n",
      "Enter a number: 2\n",
      "result of 1 and 2 is 3\n",
      "Enter a number: 2\n",
      "Enter a number: 2\n",
      "result of 2 and 2 is 4\n",
      "Enter a number: d\n"
     ]
    },
    {
     "ename": "NameError",
     "evalue": "name 'valueError' is not defined",
     "output_type": "error",
     "traceback": [
      "\u001b[1;31m---------------------------------------------------------------------------\u001b[0m",
      "\u001b[1;31mValueError\u001b[0m                                Traceback (most recent call last)",
      "\u001b[1;32m~\\AppData\\Local\\Temp\\ipykernel_11992\\1872559155.py\u001b[0m in \u001b[0;36m<module>\u001b[1;34m\u001b[0m\n\u001b[0;32m      3\u001b[0m     \u001b[1;32mtry\u001b[0m\u001b[1;33m:\u001b[0m\u001b[1;33m\u001b[0m\u001b[1;33m\u001b[0m\u001b[0m\n\u001b[1;32m----> 4\u001b[1;33m         \u001b[0mnum1\u001b[0m \u001b[1;33m=\u001b[0m \u001b[0mint\u001b[0m\u001b[1;33m(\u001b[0m\u001b[0minput\u001b[0m\u001b[1;33m(\u001b[0m\u001b[1;34m\"Enter a number: \"\u001b[0m\u001b[1;33m)\u001b[0m\u001b[1;33m)\u001b[0m\u001b[1;33m\u001b[0m\u001b[1;33m\u001b[0m\u001b[0m\n\u001b[0m\u001b[0;32m      5\u001b[0m         \u001b[0mnum2\u001b[0m \u001b[1;33m=\u001b[0m \u001b[0mint\u001b[0m\u001b[1;33m(\u001b[0m\u001b[0minput\u001b[0m\u001b[1;33m(\u001b[0m\u001b[1;34m\"Enter a number: \"\u001b[0m\u001b[1;33m)\u001b[0m\u001b[1;33m)\u001b[0m\u001b[1;33m\u001b[0m\u001b[1;33m\u001b[0m\u001b[0m\n",
      "\u001b[1;31mValueError\u001b[0m: invalid literal for int() with base 10: 'd'",
      "\nDuring handling of the above exception, another exception occurred:\n",
      "\u001b[1;31mNameError\u001b[0m                                 Traceback (most recent call last)",
      "\u001b[1;32m~\\AppData\\Local\\Temp\\ipykernel_11992\\1872559155.py\u001b[0m in \u001b[0;36m<module>\u001b[1;34m\u001b[0m\n\u001b[0;32m      6\u001b[0m         \u001b[0mresult\u001b[0m \u001b[1;33m=\u001b[0m \u001b[0mnum1\u001b[0m \u001b[1;33m+\u001b[0m \u001b[0mnum2\u001b[0m\u001b[1;33m\u001b[0m\u001b[1;33m\u001b[0m\u001b[0m\n\u001b[0;32m      7\u001b[0m         \u001b[0mprint\u001b[0m\u001b[1;33m(\u001b[0m\u001b[1;34mf\"result of {num1} and {num2} is {result}\"\u001b[0m\u001b[1;33m)\u001b[0m\u001b[1;33m\u001b[0m\u001b[1;33m\u001b[0m\u001b[0m\n\u001b[1;32m----> 8\u001b[1;33m     \u001b[1;32mexcept\u001b[0m \u001b[0mvalueError\u001b[0m\u001b[1;33m:\u001b[0m\u001b[1;33m\u001b[0m\u001b[1;33m\u001b[0m\u001b[0m\n\u001b[0m\u001b[0;32m      9\u001b[0m         \u001b[0mprint\u001b[0m\u001b[1;33m(\u001b[0m\u001b[1;34m\"Invalid datatype\"\u001b[0m\u001b[1;33m)\u001b[0m\u001b[1;33m\u001b[0m\u001b[1;33m\u001b[0m\u001b[0m\n",
      "\u001b[1;31mNameError\u001b[0m: name 'valueError' is not defined"
     ]
    }
   ],
   "source": [
    "#10-6\n",
    "while True:\n",
    "    try:\n",
    "        num1 = int(input(\"Enter a number: \"))\n",
    "        num2 = int(input(\"Enter a number: \")) \n",
    "        result = num1 + num2\n",
    "        print(f\"result of {num1} and {num2} is {result}\")\n",
    "        break\n",
    "    except ValueError:\n",
    "        print(\"Invalid datatype\")"
   ]
  },
  {
   "cell_type": "code",
   "execution_count": null,
   "id": "97fcabc0",
   "metadata": {},
   "outputs": [],
   "source": []
  }
 ],
 "metadata": {
  "kernelspec": {
   "display_name": "Python 3 (ipykernel)",
   "language": "python",
   "name": "python3"
  },
  "language_info": {
   "codemirror_mode": {
    "name": "ipython",
    "version": 3
   },
   "file_extension": ".py",
   "mimetype": "text/x-python",
   "name": "python",
   "nbconvert_exporter": "python",
   "pygments_lexer": "ipython3",
   "version": "3.9.13"
  }
 },
 "nbformat": 4,
 "nbformat_minor": 5
}
