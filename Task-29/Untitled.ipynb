{
 "cells": [
  {
   "cell_type": "markdown",
   "id": "64848943",
   "metadata": {},
   "source": [
    "Feature Extraction:\n",
    "In feature extraction, you use the pre-trained model as a fixed feature extractor. The idea is to remove the last fully connected layers of the pre-trained model and replace them with your own custom layers. Here's an example using the VGG16 architecture:"
   ]
  },
  {
   "cell_type": "code",
   "execution_count": null,
   "id": "afe6b843",
   "metadata": {},
   "outputs": [],
   "source": [
    "import tensorflow as tf\n",
    "from tensorflow.keras.applications import VGG16\n",
    "from tensorflow.keras import layers, models\n",
    "\n",
    "# Load the pre-trained VGG16 model (excluding the top layers)\n",
    "base_model = VGG16(weights='imagenet', include_top=False, input_shape=(224, 224, 3))\n",
    "\n",
    "# Freeze the pre-trained layers\n",
    "base_model.trainable = False\n",
    "\n",
    "# Create your own custom top layers\n",
    "model = models.Sequential()\n",
    "model.add(base_model)\n",
    "model.add(layers.Flatten())\n",
    "model.add(layers.Dense(256, activation='relu'))\n",
    "model.add(layers.Dense(num_classes, activation='softmax'))\n",
    "\n",
    "# Compile the model\n",
    "model.compile(optimizer='adam',\n",
    "              loss=tf.keras.losses.SparseCategoricalCrossentropy(from_logits=True),\n",
    "              metrics=['accuracy'])\n",
    "\n",
    "# Train the model\n",
    "model.fit(x_train, y_train, epochs=10, validation_data=(x_test, y_test))\n"
   ]
  },
  {
   "cell_type": "markdown",
   "id": "6e05a58a",
   "metadata": {},
   "source": [
    "Fine-Tuning:\n",
    "Fine-tuning involves selectively unfreezing some of the pre-trained layers and training them along with the newly added layers. This allows the model to adapt to the new task while still benefiting from the pre-trained knowledge. Here's an example of fine-tuning using the VGG16 model:"
   ]
  },
  {
   "cell_type": "code",
   "execution_count": null,
   "id": "a608f08e",
   "metadata": {},
   "outputs": [],
   "source": [
    "# Unfreeze the last few layers of the base model for fine-tuning\n",
    "base_model.trainable = True\n",
    "fine_tune_at = 100  # Example: Fine-tune from layer 100 onwards\n",
    "for layer in base_model.layers[:fine_tune_at]:\n",
    "    layer.trainable = False\n",
    "\n",
    "# Compile the model\n",
    "model.compile(optimizer=tf.keras.optimizers.Adam(learning_rate=1e-5),\n",
    "              loss=tf.keras.losses.SparseCategoricalCrossentropy(from_logits=True),\n",
    "              metrics=['accuracy'])\n",
    "\n",
    "# Continue training the model\n",
    "model.fit(x_train, y_train, epochs=10, validation_data=(x_test, y_test))\n"
   ]
  }
 ],
 "metadata": {
  "kernelspec": {
   "display_name": "Python 3 (ipykernel)",
   "language": "python",
   "name": "python3"
  },
  "language_info": {
   "codemirror_mode": {
    "name": "ipython",
    "version": 3
   },
   "file_extension": ".py",
   "mimetype": "text/x-python",
   "name": "python",
   "nbconvert_exporter": "python",
   "pygments_lexer": "ipython3",
   "version": "3.9.13"
  }
 },
 "nbformat": 4,
 "nbformat_minor": 5
}
