{
 "cells": [
  {
   "cell_type": "code",
   "execution_count": 15,
   "id": "e3fa3f0a",
   "metadata": {},
   "outputs": [
    {
     "name": "stdout",
     "output_type": "stream",
     "text": [
      "My Restaurant name is Al-Habib\n",
      "My Restaurant Cuisine type  is Good\n",
      "----------------------------\n",
      "Now calling method\n",
      "----------------------------\n",
      "Al-Habib is my hotel\n",
      "Good is my restaurant type\n",
      "Restaurant is open now.\n"
     ]
    }
   ],
   "source": [
    "#9-1\n",
    "class Restaurant:\n",
    "    def __init__(self,restaurant_name,cuisine_type):\n",
    "        self.name = restaurant_name\n",
    "        self.type = cuisine_type\n",
    "        \n",
    "    def describe_restaurant(self):\n",
    "        print(self.name.title() + \" is my hotel\")\n",
    "        print(self.type.title() + \" is my restaurant type\")\n",
    "        \n",
    "    def open_restaurant(self):\n",
    "        print(\"Restaurant is open now.\")\n",
    "        \n",
    "        \n",
    "my_restaurant = Restaurant(\"Al-Habib\",\"Good\")\n",
    "\n",
    "\n",
    "# Making an instance \n",
    "print(\"My Restaurant name is \" +  my_restaurant.name.title())\n",
    "print(\"My Restaurant Cuisine type  is \" +  my_restaurant.type.title())\n",
    "\n",
    "###########################\n",
    "print(\"----------------------------\")\n",
    "print(\"Now calling method\")\n",
    "print(\"----------------------------\")\n",
    "\n",
    "#Calling Method\n",
    "my_restaurant.describe_restaurant()\n",
    "my_restaurant.open_restaurant()"
   ]
  },
  {
   "cell_type": "code",
   "execution_count": 18,
   "id": "02386959",
   "metadata": {},
   "outputs": [
    {
     "name": "stdout",
     "output_type": "stream",
     "text": [
      "Your Restaurant name is Lettuce Meat\n",
      "Your Restaurant Cuisine type  is Beef\n",
      "Your Restaurant Cuisine type  is Beef\n"
     ]
    }
   ],
   "source": [
    "#9-2\n",
    "your_restaurant = Restaurant(\"Lettuce Meat\" , \"Beef\")\n",
    "print(\"Your Restaurant name is \" +  your_restaurant.name.title())\n",
    "print(\"Your Restaurant Cuisine type  is \" +  your_restaurant.type.title())\n",
    "print(\"Your Restaurant Cuisine type  is \" +  your_restaurant.type.title())\n",
    "\n"
   ]
  },
  {
   "cell_type": "code",
   "execution_count": 32,
   "id": "c22bfd4c",
   "metadata": {},
   "outputs": [
    {
     "name": "stdout",
     "output_type": "stream",
     "text": [
      "Arif\n",
      "Soomro\n",
      "Karachi\n",
      "12345678\n",
      "----------------------------\n",
      "Now calling method\n",
      "----------------------------\n",
      "First name is Arif\n",
      "Last name is Soomro\n",
      "Home address is Karachi\n",
      "Number is 12345678\n",
      "Hello, How are you Arif\n"
     ]
    }
   ],
   "source": [
    "#9-3\n",
    "\n",
    "class User:\n",
    "    def __init__(self,first_name , last_name , address , number):\n",
    "        self.f_name = first_name\n",
    "        self.l_name = last_name\n",
    "        self.address = address\n",
    "        self.number = number\n",
    "        \n",
    "\n",
    "        \n",
    "    def describe_user(self):\n",
    "        print(\"First name is \" + self.f_name.title())\n",
    "        print(\"Last name is \" + self.l_name.title())\n",
    "        print(\"Home address is \" + self.address.title())  \n",
    "        print(\"Number is \" + str(self.number))     \n",
    "        \n",
    "        \n",
    "    def greet_user(self):\n",
    "        print(\"Hello, How are you \" + self.f_name.title())\n",
    "      \n",
    "    \n",
    "#Instances\n",
    "my_user = User(\"Arif\" , \"Soomro\",\"Karachi\" , \"12345678\")\n",
    "print(my_user.f_name)\n",
    "print(my_user.l_name)\n",
    "print(my_user.address)\n",
    "print(my_user.number)\n",
    "\n",
    "\n",
    "print(\"----------------------------\")\n",
    "print(\"Now calling method\")\n",
    "print(\"----------------------------\")\n",
    "\n",
    "my_user.describe_user()\n",
    "my_user.greet_user()\n",
    "\n"
   ]
  },
  {
   "cell_type": "code",
   "execution_count": 89,
   "id": "0d086b7e",
   "metadata": {},
   "outputs": [
    {
     "name": "stdout",
     "output_type": "stream",
     "text": [
      " No of user attempts 0\n",
      " No of user attempts 3\n",
      " No of user attempts 0\n"
     ]
    }
   ],
   "source": [
    "#9-4\n",
    "\n",
    "class Restaurant:\n",
    "    def __init__(self,restaurant_name,cuisine_type):\n",
    "        #Initialize attributes to the Restaurant class\n",
    "        self.name = restaurant_name\n",
    "        self.type = cuisine_type\n",
    "        self.number_served = 0\n",
    "        self.login_attempt = 0\n",
    "        \n",
    "    def set_no__served(self ):\n",
    "        print(str(self.number_served) + \" customer  is served\")\n",
    "        \n",
    "    def increment_number_served(self,number):\n",
    "        self.number_served += number \n",
    "        print(str(self.number_served) + \" customers  are served in the whole day.\")\n",
    "        \n",
    "    def increment_login_attempt(self):\n",
    "        self.login_attempt += 1\n",
    "        \n",
    "    def reset_login_attempt(self):\n",
    "        self.login_attempt = 0\n",
    "        \n",
    "    \n",
    "    def describe_restaurant(self):\n",
    "        print(self.name.title() + \" is my hotel\")\n",
    "        print(self.type.title() + \" is my restaurant type\")\n",
    "        \n",
    "    def open_restaurant(self):\n",
    "        print(\"Restaurant is open now.\")\n",
    "        \n",
    "my_restaurant = Restaurant(\"Al Asif\",\"Good\")\n",
    "# -------Printing different instances--------#\n",
    "# print(my_restaurant.name)\n",
    "# print(my_restaurant.type)\n",
    "# print(my_restaurant.number_served)\n",
    "\n",
    "# ------set_no_served--------#\n",
    "# my_restaurant.number_served = 23\n",
    "# my_restaurant.set_no__served()\n",
    "\n",
    "# ------adding incement_number_served method---------#\n",
    "# my_restaurant.increment_number_served(500)\n",
    "\n",
    "\n",
    "#--------------increment_login_attempt--------#\n",
    "print(f\" No of user attempts {my_restaurant.login_attempt}\")\n",
    "my_restaurant.increment_login_attempt()\n",
    "my_restaurant.increment_login_attempt()\n",
    "my_restaurant.increment_login_attempt()\n",
    "print(f\" No of user attempts {my_restaurant.login_attempt}\")\n",
    "my_restaurant.reset_login_attempt()\n",
    "print(f\" No of user attempts {my_restaurant.login_attempt}\")\n",
    "\n",
    "\n"
   ]
  },
  {
   "cell_type": "code",
   "execution_count": 1,
   "id": "67a86d55",
   "metadata": {},
   "outputs": [
    {
     "name": "stdout",
     "output_type": "stream",
     "text": [
      "Scoops is a ice cream restaurant.\n",
      "We have the following flavors of ice cream:\n",
      "- Vanilla\n",
      "- Chocolate\n",
      "- Strawberry\n"
     ]
    }
   ],
   "source": [
    "#9-6\n",
    "class Restaurant:\n",
    "    def __init__(self, name, cuisine_type):\n",
    "        self.name = name\n",
    "        self.cuisine_type = cuisine_type\n",
    "        \n",
    "    def describe_restaurant(self):\n",
    "        print(f\"{self.name} is a {self.cuisine_type} restaurant.\")\n",
    "        \n",
    "    def open_restaurant(self):\n",
    "        print(f\"{self.name} is open for business.\")\n",
    "\n",
    "class IceCreamStand(Restaurant):\n",
    "    def __init__(self, name, cuisine_type='ice cream'):\n",
    "        super().__init__(name, cuisine_type)\n",
    "        self.flavors = []\n",
    "        \n",
    "    def display_flavors(self):\n",
    "        print(\"We have the following flavors of ice cream:\")\n",
    "        for flavor in self.flavors:\n",
    "            print(f\"- {flavor.title()}\")\n",
    "\n",
    "# Example usage\n",
    "my_ice_cream_stand = IceCreamStand('Scoops')\n",
    "my_ice_cream_stand.flavors = ['vanilla', 'chocolate', 'strawberry']\n",
    "my_ice_cream_stand.describe_restaurant()\n",
    "my_ice_cream_stand.display_flavors()"
   ]
  },
  {
   "cell_type": "code",
   "execution_count": null,
   "id": "b8cd4fde",
   "metadata": {},
   "outputs": [],
   "source": [
    "#9-7\n",
    "\n",
    "class User:\n",
    "    def __init__(self, first_name, last_name, username, email, location):\n",
    "        self.first_name = first_name\n",
    "        self.last_name = last_name\n",
    "        self.username = username\n",
    "        self.email = email\n",
    "        self.location = location\n",
    "        \n",
    "    def describe_user(self):\n",
    "        print(f\"{self.first_name} {self.last_name} ({self.username}) is from {self.location}.\")\n",
    "        \n",
    "    def greet_user(self):\n",
    "        print(f\"Hello, {self.first_name}!\")\n",
    "        \n",
    "class Admin(User):\n",
    "    def __init__(self, first_name, last_name, username, email, location):\n",
    "        super().__init__(first_name, last_name, username, email, location)\n",
    "        self.privileges = [\"can add post\", \"can delete post\", \"can ban user\"]\n",
    "        \n",
    "    def show_privileges(self):\n",
    "        print(\"This user has the following privileges:\")\n",
    "        for privilege in self.privileges:\n",
    "            print(f\"- {privilege}\")\n",
    "        \n",
    "# Example usage\n",
    "my_admin = Admin('John', 'Doe', 'jdoe', 'jdoe@example.com', 'New York')\n",
    "my_admin.describe_user()\n",
    "my_admin.show_privileges()"
   ]
  }
 ],
 "metadata": {
  "kernelspec": {
   "display_name": "Python 3 (ipykernel)",
   "language": "python",
   "name": "python3"
  },
  "language_info": {
   "codemirror_mode": {
    "name": "ipython",
    "version": 3
   },
   "file_extension": ".py",
   "mimetype": "text/x-python",
   "name": "python",
   "nbconvert_exporter": "python",
   "pygments_lexer": "ipython3",
   "version": "3.9.13"
  }
 },
 "nbformat": 4,
 "nbformat_minor": 5
}
