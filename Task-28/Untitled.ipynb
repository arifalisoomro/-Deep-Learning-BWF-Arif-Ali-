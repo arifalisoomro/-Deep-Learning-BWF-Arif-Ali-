{
 "cells": [
  {
   "cell_type": "code",
   "execution_count": 1,
   "id": "5e113e1e",
   "metadata": {},
   "outputs": [
    {
     "name": "stdout",
     "output_type": "stream",
     "text": [
      "Downloading data from https://www.cs.toronto.edu/~kriz/cifar-10-python.tar.gz\n",
      "170498071/170498071 [==============================] - 79s 0us/step\n",
      "Epoch 1/10\n"
     ]
    },
    {
     "name": "stderr",
     "output_type": "stream",
     "text": [
      "C:\\Users\\mosai\\anaconda3\\lib\\site-packages\\keras\\backend.py:5612: UserWarning: \"`sparse_categorical_crossentropy` received `from_logits=True`, but the `output` argument was produced by a Softmax activation and thus does not represent logits. Was this intended?\n",
      "  output, from_logits = _get_logits(\n"
     ]
    },
    {
     "name": "stdout",
     "output_type": "stream",
     "text": [
      "1563/1563 [==============================] - 56s 34ms/step - loss: 1.5277 - accuracy: 0.4429 - val_loss: 1.2722 - val_accuracy: 0.5485\n",
      "Epoch 2/10\n",
      "1563/1563 [==============================] - 52s 33ms/step - loss: 1.1660 - accuracy: 0.5846 - val_loss: 1.1293 - val_accuracy: 0.6065\n",
      "Epoch 3/10\n",
      "1563/1563 [==============================] - 53s 34ms/step - loss: 1.0098 - accuracy: 0.6437 - val_loss: 1.0978 - val_accuracy: 0.6151\n",
      "Epoch 4/10\n",
      "1563/1563 [==============================] - 50s 32ms/step - loss: 0.9096 - accuracy: 0.6815 - val_loss: 0.9063 - val_accuracy: 0.6886\n",
      "Epoch 5/10\n",
      "1563/1563 [==============================] - 51s 32ms/step - loss: 0.8393 - accuracy: 0.7045 - val_loss: 0.8655 - val_accuracy: 0.7022\n",
      "Epoch 6/10\n",
      "1563/1563 [==============================] - 51s 32ms/step - loss: 0.7818 - accuracy: 0.7267 - val_loss: 0.8756 - val_accuracy: 0.6989\n",
      "Epoch 7/10\n",
      "1563/1563 [==============================] - 51s 32ms/step - loss: 0.7433 - accuracy: 0.7397 - val_loss: 0.8395 - val_accuracy: 0.7120\n",
      "Epoch 8/10\n",
      "1563/1563 [==============================] - 50s 32ms/step - loss: 0.6989 - accuracy: 0.7553 - val_loss: 0.8429 - val_accuracy: 0.7164\n",
      "Epoch 9/10\n",
      "1563/1563 [==============================] - 66s 42ms/step - loss: 0.6597 - accuracy: 0.7688 - val_loss: 0.8592 - val_accuracy: 0.7148\n",
      "Epoch 10/10\n",
      "1563/1563 [==============================] - 56s 36ms/step - loss: 0.6290 - accuracy: 0.7775 - val_loss: 0.9041 - val_accuracy: 0.7037\n"
     ]
    },
    {
     "data": {
      "text/plain": [
       "<keras.callbacks.History at 0x15831a14490>"
      ]
     },
     "execution_count": 1,
     "metadata": {},
     "output_type": "execute_result"
    }
   ],
   "source": [
    "import tensorflow as tf\n",
    "from tensorflow.keras import layers, models\n",
    "\n",
    "# Load the CIFAR-10 dataset\n",
    "(x_train, y_train), (x_test, y_test) = tf.keras.datasets.cifar10.load_data()\n",
    "\n",
    "# Normalize pixel values between 0 and 1\n",
    "x_train = x_train / 255.0\n",
    "x_test = x_test / 255.0\n",
    "\n",
    "# Define the ConvNet architecture\n",
    "model = models.Sequential()\n",
    "\n",
    "# Convolutional layers\n",
    "model.add(layers.Conv2D(32, (3, 3), activation='relu', input_shape=(32, 32, 3)))\n",
    "model.add(layers.MaxPooling2D((2, 2)))\n",
    "\n",
    "model.add(layers.Conv2D(64, (3, 3), activation='relu'))\n",
    "model.add(layers.MaxPooling2D((2, 2)))\n",
    "\n",
    "model.add(layers.Conv2D(64, (3, 3), activation='relu'))\n",
    "\n",
    "# Flatten the feature maps\n",
    "model.add(layers.Flatten())\n",
    "\n",
    "# Fully connected layers\n",
    "model.add(layers.Dense(64, activation='relu'))\n",
    "model.add(layers.Dense(10, activation='softmax'))\n",
    "\n",
    "# Compile the model\n",
    "model.compile(optimizer='adam',\n",
    "              loss=tf.keras.losses.SparseCategoricalCrossentropy(from_logits=True),\n",
    "              metrics=['accuracy'])\n",
    "\n",
    "# Train the model\n",
    "model.fit(x_train, y_train, epochs=10, validation_data=(x_test, y_test))\n"
   ]
  },
  {
   "cell_type": "code",
   "execution_count": null,
   "id": "965bc2b7",
   "metadata": {},
   "outputs": [],
   "source": []
  }
 ],
 "metadata": {
  "kernelspec": {
   "display_name": "Python 3 (ipykernel)",
   "language": "python",
   "name": "python3"
  },
  "language_info": {
   "codemirror_mode": {
    "name": "ipython",
    "version": 3
   },
   "file_extension": ".py",
   "mimetype": "text/x-python",
   "name": "python",
   "nbconvert_exporter": "python",
   "pygments_lexer": "ipython3",
   "version": "3.9.13"
  }
 },
 "nbformat": 4,
 "nbformat_minor": 5
}
